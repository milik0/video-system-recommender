{
 "cells": [
  {
   "cell_type": "markdown",
   "id": "47da72a5",
   "metadata": {},
   "source": [
    "## CONTENT BASED RECOMMENDER SYSTEM FOR KUAIREC DATASET\n",
    "\n",
    "The Kuairec dataset is a dataset collected from the recommendation logs of the video-sharing mobile app Kuaishou.\n",
    "This notebook demonstrates how to build a content-based recommender system using this dataset.\n",
    "The recommender system will be built using the following steps:"
   ]
  },
  {
   "cell_type": "markdown",
   "id": "48282730",
   "metadata": {},
   "source": [
    "# Summary\n",
    "1. [Exploratory Analysis](feature_ing_model.ipynb)\n",
    "2. [Feature Selection]()\n",
    "    - 2.1. [Captions](feat_captions.ipynb)\n",
    "    - 2.2. [Categories](feat_categories.ipynb)\n",
    "    - 2.3. [Multimodal Features](feat_multi.ipynb)\n",
    "4. [Evaluation Summary]()\n",
    "5. [Critical Analysis]()"
   ]
  },
  {
   "cell_type": "markdown",
   "id": "ce899549",
   "metadata": {},
   "source": []
  }
 ],
 "metadata": {
  "language_info": {
   "name": "python"
  }
 },
 "nbformat": 4,
 "nbformat_minor": 5
}
